sfxjfci this is changed now{
 "cells": [
  {
   "cell_type": "code",
   "execution_count": 4,
   "id": "80fb1e4b",
   "metadata": {},
   "outputs": [
    {
     "ename": "IndentationError",
     "evalue": "expected an indented block (3465155981.py, line 2)",
     "output_type": "error",
     "traceback": [
      "\u001b[1;36m  Input \u001b[1;32mIn [4]\u001b[1;36m\u001b[0m\n\u001b[1;33m    if a > = b:\u001b[0m\n\u001b[1;37m    ^\u001b[0m\n\u001b[1;31mIndentationError\u001b[0m\u001b[1;31m:\u001b[0m expected an indented block\n"
     ]
    }
   ],
   "source": [
    "def maximum (a,b):\n",
    "if a > = b:\n",
    "    return a\n",
    "else :\n",
    "    return b\n",
    "a=2\n",
    "b=4\n",
    "print(maximum(a,b))"
   ]
  },
  {
   "cell_type": "code",
   "execution_count": 5,
   "id": "b481c626",
   "metadata": {},
   "outputs": [
    {
     "name": "stdout",
     "output_type": "stream",
     "text": [
      "niranjan\n"
     ]
    }
   ],
   "source": [
    "print(\"niranjan\")"
   ]
  },
  {
   "cell_type": "code",
   "execution_count": 6,
   "id": "49a6e6ad",
   "metadata": {},
   "outputs": [
    {
     "name": "stdout",
     "output_type": "stream",
     "text": [
      "ramayan\n"
     ]
    }
   ],
   "source": [
    "print(\"ramayan\")"
   ]
  },
  {
   "cell_type": "code",
   "execution_count": 7,
   "id": "3242d95a",
   "metadata": {},
   "outputs": [
    {
     "name": "stdout",
     "output_type": "stream",
     "text": [
      "1,2,,2hyhrfhryjgjty7\n"
     ]
    }
   ],
   "source": [
    "print(\"1,2,,2hyhrfhryjgjty7\")"
   ]
  },
  {
   "cell_type": "code",
   "execution_count": 8,
   "id": "7ddb1a2f",
   "metadata": {},
   "outputs": [
    {
     "ename": "SyntaxError",
     "evalue": "invalid syntax (2175941694.py, line 1)",
     "output_type": "error",
     "traceback": [
      "\u001b[1;36m  Input \u001b[1;32mIn [8]\u001b[1;36m\u001b[0m\n\u001b[1;33m    grid staff= niranjan\u001b[0m\n\u001b[1;37m         ^\u001b[0m\n\u001b[1;31mSyntaxError\u001b[0m\u001b[1;31m:\u001b[0m invalid syntax\n"
     ]
    }
   ],
   "source": [
    "grid staff= niranjan\n",
    "print(\"grid staff\")"
   ]
  },
  {
   "cell_type": "code",
   "execution_count": 9,
   "id": "0638108f",
   "metadata": {},
   "outputs": [
    {
     "ename": "SyntaxError",
     "evalue": "invalid syntax (1113298727.py, line 1)",
     "output_type": "error",
     "traceback": [
      "\u001b[1;36m  Input \u001b[1;32mIn [9]\u001b[1;36m\u001b[0m\n\u001b[1;33m    grid staff = niranjan\u001b[0m\n\u001b[1;37m         ^\u001b[0m\n\u001b[1;31mSyntaxError\u001b[0m\u001b[1;31m:\u001b[0m invalid syntax\n"
     ]
    }
   ],
   "source": [
    "grid staff = niranjan"
   ]
  },
  {
   "cell_type": "code",
   "execution_count": 10,
   "id": "6518b973",
   "metadata": {},
   "outputs": [
    {
     "ename": "SyntaxError",
     "evalue": "invalid syntax (3480661909.py, line 1)",
     "output_type": "error",
     "traceback": [
      "\u001b[1;36m  Input \u001b[1;32mIn [10]\u001b[1;36m\u001b[0m\n\u001b[1;33m    grid staff=\"niranjan\"\u001b[0m\n\u001b[1;37m         ^\u001b[0m\n\u001b[1;31mSyntaxError\u001b[0m\u001b[1;31m:\u001b[0m invalid syntax\n"
     ]
    }
   ],
   "source": [
    "grid staff=\"niranjan\""
   ]
  },
  {
   "cell_type": "code",
   "execution_count": 11,
   "id": "37aeb82a",
   "metadata": {},
   "outputs": [],
   "source": [
    "student = \"niranjan\""
   ]
  },
  {
   "cell_type": "code",
   "execution_count": 12,
   "id": "b21e862a",
   "metadata": {},
   "outputs": [
    {
     "name": "stdout",
     "output_type": "stream",
     "text": [
      "student\n"
     ]
    }
   ],
   "source": [
    "print(\"student\")"
   ]
  },
  {
   "cell_type": "code",
   "execution_count": 13,
   "id": "caa7f6e8",
   "metadata": {},
   "outputs": [],
   "source": [
    "student=(\"sam\")"
   ]
  },
  {
   "cell_type": "code",
   "execution_count": 14,
   "id": "3d88a4d2",
   "metadata": {},
   "outputs": [
    {
     "data": {
      "text/plain": [
       "'sam'"
      ]
     },
     "execution_count": 14,
     "metadata": {},
     "output_type": "execute_result"
    }
   ],
   "source": [
    "student"
   ]
  },
  {
   "cell_type": "code",
   "execution_count": 16,
   "id": "67899bb9",
   "metadata": {},
   "outputs": [],
   "source": [
    "gridstaff =(\"niranjan\")"
   ]
  },
  {
   "cell_type": "code",
   "execution_count": 17,
   "id": "90d59096",
   "metadata": {},
   "outputs": [
    {
     "data": {
      "text/plain": [
       "'niranjan'"
      ]
     },
     "execution_count": 17,
     "metadata": {},
     "output_type": "execute_result"
    }
   ],
   "source": [
    "gridstaff"
   ]
  },
  {
   "cell_type": "raw",
   "id": "e39ba9fa",
   "metadata": {},
   "source": []
  },
  {
   "cell_type": "code",
   "execution_count": 19,
   "id": "423f95f7",
   "metadata": {},
   "outputs": [],
   "source": [
    "gridstaff=(\"vishal\")"
   ]
  },
  {
   "cell_type": "code",
   "execution_count": 20,
   "id": "b63ee1f3",
   "metadata": {},
   "outputs": [
    {
     "data": {
      "text/plain": [
       "'vishal'"
      ]
     },
     "execution_count": 20,
     "metadata": {},
     "output_type": "execute_result"
    }
   ],
   "source": [
    "gridstaff"
   ]
  },
  {
   "cell_type": "markdown",
   "id": "ea2832b6",
   "metadata": {},
   "source": [
    "# "
   ]
  },
  {
   "cell_type": "code",
   "execution_count": 21,
   "id": "be7b3c1f",
   "metadata": {},
   "outputs": [
    {
     "data": {
      "text/plain": [
       "10"
      ]
     },
     "execution_count": 21,
     "metadata": {},
     "output_type": "execute_result"
    }
   ],
   "source": [
    "a1=10\n",
    "a1"
   ]
  },
  {
   "cell_type": "code",
   "execution_count": 22,
   "id": "83855922",
   "metadata": {},
   "outputs": [
    {
     "data": {
      "text/plain": [
       "int"
      ]
     },
     "execution_count": 22,
     "metadata": {},
     "output_type": "execute_result"
    }
   ],
   "source": [
    "type(a1)"
   ]
  },
  {
   "cell_type": "code",
   "execution_count": 23,
   "id": "2d784658",
   "metadata": {},
   "outputs": [
    {
     "data": {
      "text/plain": [
       "3.14"
      ]
     },
     "execution_count": 23,
     "metadata": {},
     "output_type": "execute_result"
    }
   ],
   "source": [
    "a1=3.14\n",
    "a1"
   ]
  },
  {
   "cell_type": "code",
   "execution_count": 24,
   "id": "ae8392bf",
   "metadata": {},
   "outputs": [
    {
     "data": {
      "text/plain": [
       "float"
      ]
     },
     "execution_count": 24,
     "metadata": {},
     "output_type": "execute_result"
    }
   ],
   "source": [
    "type(a1)"
   ]
  },
  {
   "cell_type": "code",
   "execution_count": null,
   "id": "cc9718b3",
   "metadata": {},
   "outputs": [],
   "source": [
    "a1=true"
   ]
  }
 ],
 "metadata": {
  "kernelspec": {
   "display_name": "Python 3 (ipykernel)",
   "language": "python",
   "name": "python3"
  },
  "language_info": {
   "codemirror_mode": {
    "name": "ipython",
    "version": 3
   },
   "file_extension": ".py",
   "mimetype": "text/x-python",
   "name": "python",
   "nbconvert_exporter": "python",
   "pygments_lexer": "ipython3",
   "version": "3.9.12"
  }
 },
 "nbformat": 4,
 "nbformat_minor": 5
}
