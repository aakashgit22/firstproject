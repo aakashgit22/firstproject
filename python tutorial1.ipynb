 changed
{
 "cells": [
  {
   "cell_type": "code",
   "execution_count": null,
   "id": "cedfcdc1",
   "metadata": {},
   "outputs": [],
   "source": [
    "def maximum (a,b):\n",
    "if a > = b:\n",
    "    return a\n",
    "else :\n",
    "    return b\n",
    "a=2\n",
    "b=4\n",
    "print(maximum(a,b))"
   ]
  },
  {
   "cell_type": "code",
   "execution_count": 71,
   "id": "61abd6b6",
   "metadata": {},
   "outputs": [
    {
     "name": "stdout",
     "output_type": "stream",
     "text": [
      "niranjan\n"
     ]
    }
   ],
   "source": [
    "print(\"niranjan\")"
   ]
  },
  {
   "cell_type": "code",
   "execution_count": 72,
   "id": "e808d3bf",
   "metadata": {},
   "outputs": [
    {
     "name": "stdout",
     "output_type": "stream",
     "text": [
      "ramayan\n"
     ]
    }
   ],
   "source": [
    "print(\"ramayan\")"
   ]
  },
  {
   "cell_type": "code",
   "execution_count": 73,
   "id": "18f52766",
   "metadata": {},
   "outputs": [
    {
     "name": "stdout",
     "output_type": "stream",
     "text": [
      "1,2,,2hyhrfhryjgjty7\n"
     ]
    }
   ],
   "source": [
    "print(\"1,2,,2hyhrfhryjgjty7\")"
   ]
  },
  {
   "cell_type": "code",
   "execution_count": null,
   "id": "7d9d895f",
   "metadata": {},
   "outputs": [],
   "source": [
    "grid staff= niranjan\n",
    "print(\"grid staff\")\n"
   ]
  },
  {
   "cell_type": "code",
   "execution_count": 74,
   "id": "90cdd88e",
   "metadata": {},
   "outputs": [
    {
     "ename": "SyntaxError",
     "evalue": "invalid syntax (1113298727.py, line 1)",
     "output_type": "error",
     "traceback": [
      "\u001b[1;36m  Input \u001b[1;32mIn [74]\u001b[1;36m\u001b[0m\n\u001b[1;33m    grid staff = niranjan\u001b[0m\n\u001b[1;37m         ^\u001b[0m\n\u001b[1;31mSyntaxError\u001b[0m\u001b[1;31m:\u001b[0m invalid syntax\n"
     ]
    }
   ],
   "source": [
    "grid staff = niranjan"
   ]
  },
  {
   "cell_type": "code",
   "execution_count": 75,
   "id": "82f6ca39",
   "metadata": {},
   "outputs": [
    {
     "ename": "SyntaxError",
     "evalue": "invalid syntax (3480661909.py, line 1)",
     "output_type": "error",
     "traceback": [
      "\u001b[1;36m  Input \u001b[1;32mIn [75]\u001b[1;36m\u001b[0m\n\u001b[1;33m    grid staff=\"niranjan\"\u001b[0m\n\u001b[1;37m         ^\u001b[0m\n\u001b[1;31mSyntaxError\u001b[0m\u001b[1;31m:\u001b[0m invalid syntax\n"
     ]
    }
   ],
   "source": [
    "grid staff=\"niranjan\""
   ]
  },
  {
   "cell_type": "code",
   "execution_count": 76,
   "id": "1f5c3b8f",
   "metadata": {},
   "outputs": [],
   "source": [
    "student = \"niranjan\""
   ]
  },
  {
   "cell_type": "code",
   "execution_count": 77,
   "id": "c3b6125a",
   "metadata": {},
   "outputs": [
    {
     "name": "stdout",
     "output_type": "stream",
     "text": [
      "student\n"
     ]
    }
   ],
   "source": [
    "print(\"student\")"
   ]
  },
  {
   "cell_type": "code",
   "execution_count": 78,
   "id": "55644ed9",
   "metadata": {},
   "outputs": [],
   "source": [
    "student=(\"sam\")"
   ]
  },
  {
   "cell_type": "code",
   "execution_count": 79,
   "id": "301ff745",
   "metadata": {},
   "outputs": [
    {
     "data": {
      "text/plain": [
       "'sam'"
      ]
     },
     "execution_count": 79,
     "metadata": {},
     "output_type": "execute_result"
    }
   ],
   "source": [
    "student"
   ]
  },
  {
   "cell_type": "code",
   "execution_count": 80,
   "id": "5d8345ca",
   "metadata": {},
   "outputs": [],
   "source": [
    "gridstaff =(\"niranjan\")"
   ]
  },
  {
   "cell_type": "code",
   "execution_count": 81,
   "id": "fa5c3999",
   "metadata": {},
   "outputs": [
    {
     "data": {
      "text/plain": [
       "'niranjan'"
      ]
     },
     "execution_count": 81,
     "metadata": {},
     "output_type": "execute_result"
    }
   ],
   "source": [
    "gridstaff"
   ]
  },
  {
   "cell_type": "raw",
   "id": "2c5cfe4b",
   "metadata": {},
   "source": []
  },
  {
   "cell_type": "code",
   "execution_count": 82,
   "id": "e5217e48",
   "metadata": {},
   "outputs": [],
   "source": [
    "gridstaff=(\"vishal\")"
   ]
  },
  {
   "cell_type": "code",
   "execution_count": 83,
   "id": "c3bf53ae",
   "metadata": {},
   "outputs": [
    {
     "data": {
      "text/plain": [
       "'vishal'"
      ]
     },
     "execution_count": 83,
     "metadata": {},
     "output_type": "execute_result"
    }
   ],
   "source": [
    "gridstaff"
   ]
  },
  {
   "cell_type": "markdown",
   "id": "1687b143",
   "metadata": {},
   "source": [
    "# "
   ]
  },
  {
   "cell_type": "code",
   "execution_count": 84,
   "id": "86e923ea",
   "metadata": {},
   "outputs": [
    {
     "data": {
      "text/plain": [
       "10"
      ]
     },
     "execution_count": 84,
     "metadata": {},
     "output_type": "execute_result"
    }
   ],
   "source": [
    "a1=10\n",
    "a1"
   ]
  },
  {
   "cell_type": "code",
   "execution_count": null,
   "id": "66d7639a",
   "metadata": {},
   "outputs": [],
   "source": [
    "type(a1)"
   ]
  },
  {
   "cell_type": "code",
   "execution_count": 85,
   "id": "a665b8b9",
   "metadata": {},
   "outputs": [
    {
     "data": {
      "text/plain": [
       "3.14"
      ]
     },
     "execution_count": 85,
     "metadata": {},
     "output_type": "execute_result"
    }
   ],
   "source": [
    "a1=3.14\n",
    "a1"
   ]
  },
  {
   "cell_type": "code",
   "execution_count": null,
   "id": "902a5976",
   "metadata": {},
   "outputs": [],
   "source": [
    "type(a1)"
   ]
  },
  {
   "cell_type": "code",
   "execution_count": 86,
   "id": "828c9f57",
   "metadata": {},
   "outputs": [
    {
     "data": {
      "text/plain": [
       "True"
      ]
     },
     "execution_count": 86,
     "metadata": {},
     "output_type": "execute_result"
    }
   ],
   "source": [
    "a1=True\n",
    "a1"
   ]
  },
  {
   "cell_type": "code",
   "execution_count": null,
   "id": "156b8a0f",
   "metadata": {},
   "outputs": [],
   "source": [
    "type(a1)"
   ]
  },
  {
   "cell_type": "code",
   "execution_count": 87,
   "id": "51c4e272",
   "metadata": {},
   "outputs": [],
   "source": [
    "a1 =\"hello world\""
   ]
  },
  {
   "cell_type": "code",
   "execution_count": null,
   "id": "8b3a7ee1",
   "metadata": {},
   "outputs": [],
   "source": [
    "a1"
   ]
  },
  {
   "cell_type": "code",
   "execution_count": 88,
   "id": "7f85afa6",
   "metadata": {},
   "outputs": [
    {
     "data": {
      "text/plain": [
       "str"
      ]
     },
     "execution_count": 88,
     "metadata": {},
     "output_type": "execute_result"
    }
   ],
   "source": [
    "type(a1)"
   ]
  },
  {
   "cell_type": "code",
   "execution_count": null,
   "id": "2a050829",
   "metadata": {},
   "outputs": [],
   "source": [
    "a1=3+4j\n",
    "a1\n"
   ]
  },
  {
   "cell_type": "code",
   "execution_count": 89,
   "id": "f427f307",
   "metadata": {},
   "outputs": [
    {
     "data": {
      "text/plain": [
       "str"
      ]
     },
     "execution_count": 89,
     "metadata": {},
     "output_type": "execute_result"
    }
   ],
   "source": [
    "type(a1)"
   ]
  },
  {
   "cell_type": "code",
   "execution_count": null,
   "id": "d246581f",
   "metadata": {},
   "outputs": [],
   "source": [
    "#Arithmetic operations"
   ]
  },
  {
   "cell_type": "code",
   "execution_count": 90,
   "id": "ab68182b",
   "metadata": {},
   "outputs": [],
   "source": [
    "a=10\n",
    "b=20"
   ]
  },
  {
   "cell_type": "code",
   "execution_count": 91,
   "id": "4917b636",
   "metadata": {},
   "outputs": [
    {
     "data": {
      "text/plain": [
       "(10, 20)"
      ]
     },
     "execution_count": 91,
     "metadata": {},
     "output_type": "execute_result"
    }
   ],
   "source": [
    "a,b"
   ]
  },
  {
   "cell_type": "code",
   "execution_count": 92,
   "id": "f8054274",
   "metadata": {},
   "outputs": [
    {
     "data": {
      "text/plain": [
       "30"
      ]
     },
     "execution_count": 92,
     "metadata": {},
     "output_type": "execute_result"
    }
   ],
   "source": [
    "a+b"
   ]
  },
  {
   "cell_type": "code",
   "execution_count": 93,
   "id": "49331483",
   "metadata": {},
   "outputs": [
    {
     "data": {
      "text/plain": [
       "-10"
      ]
     },
     "execution_count": 93,
     "metadata": {},
     "output_type": "execute_result"
    }
   ],
   "source": [
    "a-b"
   ]
  },
  {
   "cell_type": "code",
   "execution_count": 94,
   "id": "e39d1a2c",
   "metadata": {},
   "outputs": [
    {
     "data": {
      "text/plain": [
       "0.5"
      ]
     },
     "execution_count": 94,
     "metadata": {},
     "output_type": "execute_result"
    }
   ],
   "source": [
    "a/b"
   ]
  },
  {
   "cell_type": "code",
   "execution_count": 95,
   "id": "2b0c5d3b",
   "metadata": {},
   "outputs": [
    {
     "data": {
      "text/plain": [
       "200"
      ]
     },
     "execution_count": 95,
     "metadata": {},
     "output_type": "execute_result"
    }
   ],
   "source": [
    "a*b"
   ]
  },
  {
   "cell_type": "code",
   "execution_count": null,
   "id": "ac2219c4",
   "metadata": {},
   "outputs": [],
   "source": [
    "#RELATION OPERATORS"
   ]
  },
  {
   "cell_type": "code",
   "execution_count": null,
   "id": "8b150b3d",
   "metadata": {},
   "outputs": [],
   "source": [
    "#<,>,==,!=(NOT EQUAL TO)"
   ]
  },
  {
   "cell_type": "code",
   "execution_count": 96,
   "id": "642d1ff5",
   "metadata": {},
   "outputs": [],
   "source": [
    "A=50\n",
    "B=100"
   ]
  },
  {
   "cell_type": "code",
   "execution_count": 97,
   "id": "a33c5c9e",
   "metadata": {},
   "outputs": [
    {
     "data": {
      "text/plain": [
       "False"
      ]
     },
     "execution_count": 97,
     "metadata": {},
     "output_type": "execute_result"
    }
   ],
   "source": [
    "A>B"
   ]
  },
  {
   "cell_type": "code",
   "execution_count": 98,
   "id": "a125d776",
   "metadata": {},
   "outputs": [
    {
     "data": {
      "text/plain": [
       "True"
      ]
     },
     "execution_count": 98,
     "metadata": {},
     "output_type": "execute_result"
    }
   ],
   "source": [
    "A<B"
   ]
  },
  {
   "cell_type": "code",
   "execution_count": 99,
   "id": "10e8a1c1",
   "metadata": {},
   "outputs": [
    {
     "data": {
      "text/plain": [
       "False"
      ]
     },
     "execution_count": 99,
     "metadata": {},
     "output_type": "execute_result"
    }
   ],
   "source": [
    "A==B"
   ]
  },
  {
   "cell_type": "code",
   "execution_count": 100,
   "id": "fed64476",
   "metadata": {},
   "outputs": [
    {
     "data": {
      "text/plain": [
       "True"
      ]
     },
     "execution_count": 100,
     "metadata": {},
     "output_type": "execute_result"
    }
   ],
   "source": [
    "A!=B"
   ]
  },
  {
   "cell_type": "code",
   "execution_count": null,
   "id": "0fad21a3",
   "metadata": {},
   "outputs": [],
   "source": [
    "#LOGICAL OPERATORS & |"
   ]
  },
  {
   "cell_type": "code",
   "execution_count": null,
   "id": "6680b11c",
   "metadata": {},
   "outputs": [],
   "source": [
    "a =True\n",
    "b=False"
   ]
  },
  {
   "cell_type": "code",
   "execution_count": 101,
   "id": "44fc4cec",
   "metadata": {},
   "outputs": [
    {
     "data": {
      "text/plain": [
       "10"
      ]
     },
     "execution_count": 101,
     "metadata": {},
     "output_type": "execute_result"
    }
   ],
   "source": [
    "a&a"
   ]
  },
  {
   "cell_type": "code",
   "execution_count": 102,
   "id": "6e6c4087",
   "metadata": {},
   "outputs": [
    {
     "data": {
      "text/plain": [
       "16"
      ]
     },
     "execution_count": 102,
     "metadata": {},
     "output_type": "execute_result"
    }
   ],
   "source": [
    "A&b"
   ]
  },
  {
   "cell_type": "code",
   "execution_count": 103,
   "id": "1ab90161",
   "metadata": {},
   "outputs": [
    {
     "data": {
      "text/plain": [
       "0"
      ]
     },
     "execution_count": 103,
     "metadata": {},
     "output_type": "execute_result"
    }
   ],
   "source": [
    "a&b"
   ]
  },
  {
   "cell_type": "code",
   "execution_count": 104,
   "id": "8699f53f",
   "metadata": {},
   "outputs": [
    {
     "data": {
      "text/plain": [
       "0"
      ]
     },
     "execution_count": 104,
     "metadata": {},
     "output_type": "execute_result"
    }
   ],
   "source": [
    "b&a"
   ]
  },
  {
   "cell_type": "code",
   "execution_count": 105,
   "id": "0ce3024c",
   "metadata": {},
   "outputs": [
    {
     "data": {
      "text/plain": [
       "20"
      ]
     },
     "execution_count": 105,
     "metadata": {},
     "output_type": "execute_result"
    }
   ],
   "source": [
    "b&b"
   ]
  },
  {
   "cell_type": "code",
   "execution_count": 106,
   "id": "f506f7b7",
   "metadata": {},
   "outputs": [
    {
     "data": {
      "text/plain": [
       "30"
      ]
     },
     "execution_count": 106,
     "metadata": {},
     "output_type": "execute_result"
    }
   ],
   "source": [
    "a|b"
   ]
  },
  {
   "cell_type": "code",
   "execution_count": 107,
   "id": "68913658",
   "metadata": {},
   "outputs": [
    {
     "data": {
      "text/plain": [
       "30"
      ]
     },
     "execution_count": 107,
     "metadata": {},
     "output_type": "execute_result"
    }
   ],
   "source": [
    "b|a"
   ]
  },
  {
   "cell_type": "code",
   "execution_count": 108,
   "id": "b62fc8b9",
   "metadata": {},
   "outputs": [
    {
     "data": {
      "text/plain": [
       "10"
      ]
     },
     "execution_count": 108,
     "metadata": {},
     "output_type": "execute_result"
    }
   ],
   "source": [
    "a|a"
   ]
  },
  {
   "cell_type": "code",
   "execution_count": 109,
   "id": "9e9b9f24",
   "metadata": {},
   "outputs": [
    {
     "data": {
      "text/plain": [
       "20"
      ]
     },
     "execution_count": 109,
     "metadata": {},
     "output_type": "execute_result"
    }
   ],
   "source": [
    "b|b"
   ]
  },
  {
   "cell_type": "code",
   "execution_count": 110,
   "id": "76eb0b9a",
   "metadata": {},
   "outputs": [],
   "source": [
    "str1 ='this is my first string'"
   ]
  },
  {
   "cell_type": "code",
   "execution_count": 111,
   "id": "2ce89a48",
   "metadata": {},
   "outputs": [
    {
     "data": {
      "text/plain": [
       "'this is my first string'"
      ]
     },
     "execution_count": 111,
     "metadata": {},
     "output_type": "execute_result"
    }
   ],
   "source": [
    "str1"
   ]
  },
  {
   "cell_type": "code",
   "execution_count": 112,
   "id": "c7776d0c",
   "metadata": {},
   "outputs": [],
   "source": [
    "str2 =\"this is my second string\""
   ]
  },
  {
   "cell_type": "code",
   "execution_count": 113,
   "id": "1c4d3904",
   "metadata": {},
   "outputs": [
    {
     "data": {
      "text/plain": [
       "'this is my second string'"
      ]
     },
     "execution_count": 113,
     "metadata": {},
     "output_type": "execute_result"
    }
   ],
   "source": [
    "str2"
   ]
  },
  {
   "cell_type": "code",
   "execution_count": 114,
   "id": "885350a3",
   "metadata": {},
   "outputs": [],
   "source": [
    "str3 ='''\n",
    "this is my\n",
    "third string\n",
    "that has\n",
    "lot\n",
    "of lines'''"
   ]
  },
  {
   "cell_type": "code",
   "execution_count": 115,
   "id": "9c3e9e62",
   "metadata": {},
   "outputs": [
    {
     "data": {
      "text/plain": [
       "'\\nthis is my\\nthird string\\nthat has\\nlot\\nof lines'"
      ]
     },
     "execution_count": 115,
     "metadata": {},
     "output_type": "execute_result"
    }
   ],
   "source": [
    "str3"
   ]
  },
  {
   "cell_type": "code",
   "execution_count": 116,
   "id": "a701057d",
   "metadata": {},
   "outputs": [],
   "source": [
    "my_string ='This is sparta'"
   ]
  },
  {
   "cell_type": "code",
   "execution_count": 117,
   "id": "1220bf85",
   "metadata": {},
   "outputs": [
    {
     "data": {
      "text/plain": [
       "'This is sparta'"
      ]
     },
     "execution_count": 117,
     "metadata": {},
     "output_type": "execute_result"
    }
   ],
   "source": [
    "\n",
    "my_string"
   ]
  },
  {
   "cell_type": "code",
   "execution_count": 118,
   "id": "c558d5e3",
   "metadata": {},
   "outputs": [
    {
     "data": {
      "text/plain": [
       "'T'"
      ]
     },
     "execution_count": 118,
     "metadata": {},
     "output_type": "execute_result"
    }
   ],
   "source": [
    "my_string[0]"
   ]
  },
  {
   "cell_type": "code",
   "execution_count": 119,
   "id": "e8be777b",
   "metadata": {},
   "outputs": [
    {
     "data": {
      "text/plain": [
       "'i'"
      ]
     },
     "execution_count": 119,
     "metadata": {},
     "output_type": "execute_result"
    }
   ],
   "source": [
    "my_string[5\n",
    "        ]"
   ]
  },
  {
   "cell_type": "code",
   "execution_count": 120,
   "id": "30d47063",
   "metadata": {},
   "outputs": [
    {
     "data": {
      "text/plain": [
       "'a'"
      ]
     },
     "execution_count": 120,
     "metadata": {},
     "output_type": "execute_result"
    }
   ],
   "source": [
    "my_string[-1]"
   ]
  },
  {
   "cell_type": "code",
   "execution_count": 121,
   "id": "deadef86",
   "metadata": {},
   "outputs": [
    {
     "data": {
      "text/plain": [
       "'t'"
      ]
     },
     "execution_count": 121,
     "metadata": {},
     "output_type": "execute_result"
    }
   ],
   "source": [
    "my_string[-2]"
   ]
  },
  {
   "cell_type": "code",
   "execution_count": 122,
   "id": "1d896956",
   "metadata": {},
   "outputs": [
    {
     "data": {
      "text/plain": [
       "'is spa'"
      ]
     },
     "execution_count": 122,
     "metadata": {},
     "output_type": "execute_result"
    }
   ],
   "source": [
    "my_string[5:11]"
   ]
  },
  {
   "cell_type": "code",
   "execution_count": 123,
   "id": "e0c17b5c",
   "metadata": {},
   "outputs": [
    {
     "data": {
      "text/plain": [
       "14"
      ]
     },
     "execution_count": 123,
     "metadata": {},
     "output_type": "execute_result"
    }
   ],
   "source": [
    "len(my_string)"
   ]
  },
  {
   "cell_type": "code",
   "execution_count": 124,
   "id": "55b4d32e",
   "metadata": {},
   "outputs": [
    {
     "data": {
      "text/plain": [
       "'this is sparta'"
      ]
     },
     "execution_count": 124,
     "metadata": {},
     "output_type": "execute_result"
    }
   ],
   "source": [
    "my_string.lower()"
   ]
  },
  {
   "cell_type": "code",
   "execution_count": 125,
   "id": "b8fddd84",
   "metadata": {},
   "outputs": [
    {
     "data": {
      "text/plain": [
       "'THIS IS SPARTA'"
      ]
     },
     "execution_count": 125,
     "metadata": {},
     "output_type": "execute_result"
    }
   ],
   "source": [
    "my_string.upper()"
   ]
  },
  {
   "cell_type": "code",
   "execution_count": 126,
   "id": "4484b3dd",
   "metadata": {},
   "outputs": [
    {
     "data": {
      "text/plain": [
       "'Thare are sparta'"
      ]
     },
     "execution_count": 126,
     "metadata": {},
     "output_type": "execute_result"
    }
   ],
   "source": [
    "my_string.replace('is','are')"
   ]
  },
  {
   "cell_type": "code",
   "execution_count": 127,
   "id": "d2748b6f",
   "metadata": {},
   "outputs": [
    {
     "data": {
      "text/plain": [
       "'sparta sparta 300 300 300 s'"
      ]
     },
     "execution_count": 127,
     "metadata": {},
     "output_type": "execute_result"
    }
   ],
   "source": [
    "str_new = 'sparta sparta 300 300 300 s'\n",
    "str_new"
   ]
  },
  {
   "cell_type": "code",
   "execution_count": 128,
   "id": "c9dbc5dc",
   "metadata": {},
   "outputs": [
    {
     "data": {
      "text/plain": [
       "2"
      ]
     },
     "execution_count": 128,
     "metadata": {},
     "output_type": "execute_result"
    }
   ],
   "source": [
    "str_new.count('sparta')"
   ]
  },
  {
   "cell_type": "code",
   "execution_count": 129,
   "id": "f438c80c",
   "metadata": {},
   "outputs": [
    {
     "data": {
      "text/plain": [
       "3"
      ]
     },
     "execution_count": 129,
     "metadata": {},
     "output_type": "execute_result"
    }
   ],
   "source": [
    "str_new.count('300')"
   ]
  },
  {
   "cell_type": "code",
   "execution_count": 130,
   "id": "ef724b68",
   "metadata": {},
   "outputs": [
    {
     "data": {
      "text/plain": [
       "3"
      ]
     },
     "execution_count": 130,
     "metadata": {},
     "output_type": "execute_result"
    }
   ],
   "source": [
    "str_new.count('s')"
   ]
  },
  {
   "cell_type": "raw",
   "id": "77cf981a",
   "metadata": {},
   "source": [
    "my_string = 'hello world is awesome'"
   ]
  },
  {
   "cell_type": "code",
   "execution_count": 131,
   "id": "74ae51fa",
   "metadata": {},
   "outputs": [],
   "source": [
    "my_string = 'hello world is awesome'"
   ]
  },
  {
   "cell_type": "code",
   "execution_count": 132,
   "id": "57d70938",
   "metadata": {},
   "outputs": [
    {
     "data": {
      "text/plain": [
       "'hello world is awesome'"
      ]
     },
     "execution_count": 132,
     "metadata": {},
     "output_type": "execute_result"
    }
   ],
   "source": [
    "my_string"
   ]
  },
  {
   "cell_type": "code",
   "execution_count": 133,
   "id": "0b5d1ca0",
   "metadata": {},
   "outputs": [
    {
     "data": {
      "text/plain": [
       "12"
      ]
     },
     "execution_count": 133,
     "metadata": {},
     "output_type": "execute_result"
    }
   ],
   "source": [
    "my_string.find('i')"
   ]
  },
  {
   "cell_type": "raw",
   "id": "6c25054b",
   "metadata": {},
   "source": [
    "str_final =\"president omaba is the best president of united states"
   ]
  },
  {
   "cell_type": "code",
   "execution_count": 134,
   "id": "dfd6f69a",
   "metadata": {},
   "outputs": [],
   "source": [
    "str_final ='president omaba is the best president of united states'"
   ]
  },
  {
   "cell_type": "code",
   "execution_count": null,
   "id": "1bf39b48",
   "metadata": {},
   "outputs": [],
   "source": []
  },
  {
   "cell_type": "code",
   "execution_count": 135,
   "id": "125f6b24",
   "metadata": {},
   "outputs": [
    {
     "data": {
      "text/plain": [
       "'president omaba is the best president of united states'"
      ]
     },
     "execution_count": 135,
     "metadata": {},
     "output_type": "execute_result"
    }
   ],
   "source": [
    "str_final ='president omaba is the best president of united states'\n",
    "str_final"
   ]
  },
  {
   "cell_type": "code",
   "execution_count": 136,
   "id": "5e75381e",
   "metadata": {},
   "outputs": [
    {
     "data": {
      "text/plain": [
       "['pr',\n",
       " 'sid',\n",
       " 'nt omaba is th',\n",
       " ' b',\n",
       " 'st pr',\n",
       " 'sid',\n",
       " 'nt of unit',\n",
       " 'd stat',\n",
       " 's']"
      ]
     },
     "execution_count": 136,
     "metadata": {},
     "output_type": "execute_result"
    }
   ],
   "source": [
    "str_final.split('e')"
   ]
  },
  {
   "cell_type": "code",
   "execution_count": 137,
   "id": "9083f97a",
   "metadata": {},
   "outputs": [
    {
     "data": {
      "text/plain": [
       "['president',\n",
       " 'omaba',\n",
       " 'is',\n",
       " 'the',\n",
       " 'best',\n",
       " 'president',\n",
       " 'of',\n",
       " 'united',\n",
       " 'states']"
      ]
     },
     "execution_count": 137,
     "metadata": {},
     "output_type": "execute_result"
    }
   ],
   "source": [
    "str_final.split(' ')"
   ]
  },
  {
   "cell_type": "code",
   "execution_count": 138,
   "id": "68ff986a",
   "metadata": {},
   "outputs": [],
   "source": [
    "#data structures . there are four data structures in python\n",
    "#tuple, list,set,dictionary\n",
    "#tuple- store various values. and are immutable(change nhi hota haitt)\n",
    "#tup(1,'a',true)"
   ]
  },
  {
   "cell_type": "code",
   "execution_count": 139,
   "id": "d51d9eef",
   "metadata": {},
   "outputs": [],
   "source": [
    "tup1 = (1,True,3.14,5-7j)"
   ]
  },
  {
   "cell_type": "code",
   "execution_count": 140,
   "id": "1bd48e53",
   "metadata": {},
   "outputs": [
    {
     "data": {
      "text/plain": [
       "(1, True, 3.14, (5-7j))"
      ]
     },
     "execution_count": 140,
     "metadata": {},
     "output_type": "execute_result"
    }
   ],
   "source": [
    "tup1"
   ]
  },
  {
   "cell_type": "code",
   "execution_count": 141,
   "id": "25210185",
   "metadata": {},
   "outputs": [
    {
     "data": {
      "text/plain": [
       "tuple"
      ]
     },
     "execution_count": 141,
     "metadata": {},
     "output_type": "execute_result"
    }
   ],
   "source": [
    "type(tup1)"
   ]
  },
  {
   "cell_type": "code",
   "execution_count": 142,
   "id": "c6117472",
   "metadata": {},
   "outputs": [
    {
     "data": {
      "text/plain": [
       "1"
      ]
     },
     "execution_count": 142,
     "metadata": {},
     "output_type": "execute_result"
    }
   ],
   "source": [
    "tup1[0]"
   ]
  },
  {
   "cell_type": "code",
   "execution_count": 143,
   "id": "aa20f875",
   "metadata": {},
   "outputs": [
    {
     "data": {
      "text/plain": [
       "(5-7j)"
      ]
     },
     "execution_count": 143,
     "metadata": {},
     "output_type": "execute_result"
    }
   ],
   "source": [
    "tup1[-1]"
   ]
  },
  {
   "cell_type": "code",
   "execution_count": 144,
   "id": "be096ce7",
   "metadata": {},
   "outputs": [
    {
     "data": {
      "text/plain": [
       "(1, True, 3.14, (5-7j))"
      ]
     },
     "execution_count": 144,
     "metadata": {},
     "output_type": "execute_result"
    }
   ],
   "source": [
    "tup1"
   ]
  },
  {
   "cell_type": "code",
   "execution_count": 145,
   "id": "431be216",
   "metadata": {},
   "outputs": [
    {
     "data": {
      "text/plain": [
       "(1, True)"
      ]
     },
     "execution_count": 145,
     "metadata": {},
     "output_type": "execute_result"
    }
   ],
   "source": [
    "tup1[0:2]"
   ]
  },
  {
   "cell_type": "code",
   "execution_count": 146,
   "id": "3b0ee63e",
   "metadata": {},
   "outputs": [
    {
     "ename": "TypeError",
     "evalue": "'tuple' object does not support item assignment",
     "output_type": "error",
     "traceback": [
      "\u001b[1;31m---------------------------------------------------------------------------\u001b[0m",
      "\u001b[1;31mTypeError\u001b[0m                                 Traceback (most recent call last)",
      "Input \u001b[1;32mIn [146]\u001b[0m, in \u001b[0;36m<cell line: 1>\u001b[1;34m()\u001b[0m\n\u001b[1;32m----> 1\u001b[0m tup1[\u001b[38;5;241m2\u001b[39m] \u001b[38;5;241m=\u001b[39m \u001b[38;5;124m\"\u001b[39m\u001b[38;5;124mthis is sparta\u001b[39m\u001b[38;5;124m\"\u001b[39m\n",
      "\u001b[1;31mTypeError\u001b[0m: 'tuple' object does not support item assignment"
     ]
    }
   ],
   "source": [
    "tup1[2] = \"this is sparta\""
   ]
  },
  {
   "cell_type": "code",
   "execution_count": 147,
   "id": "610c6839",
   "metadata": {},
   "outputs": [
    {
     "ename": "TypeError",
     "evalue": "'tuple' object does not support item assignment",
     "output_type": "error",
     "traceback": [
      "\u001b[1;31m---------------------------------------------------------------------------\u001b[0m",
      "\u001b[1;31mTypeError\u001b[0m                                 Traceback (most recent call last)",
      "Input \u001b[1;32mIn [147]\u001b[0m, in \u001b[0;36m<cell line: 1>\u001b[1;34m()\u001b[0m\n\u001b[1;32m----> 1\u001b[0m tup1[\u001b[38;5;241m2\u001b[39m] \u001b[38;5;241m=\u001b[39m \u001b[38;5;124m'\u001b[39m\u001b[38;5;124mthis is sparta\u001b[39m\u001b[38;5;124m'\u001b[39m\n",
      "\u001b[1;31mTypeError\u001b[0m: 'tuple' object does not support item assignment"
     ]
    }
   ],
   "source": [
    "tup1[2] = 'this is sparta'"
   ]
  },
  {
   "cell_type": "code",
   "execution_count": 148,
   "id": "7e65367f",
   "metadata": {},
   "outputs": [
    {
     "data": {
      "text/plain": [
       "4"
      ]
     },
     "execution_count": 148,
     "metadata": {},
     "output_type": "execute_result"
    }
   ],
   "source": [
    "len(tup1)"
   ]
  },
  {
   "cell_type": "code",
   "execution_count": 150,
   "id": "557b3e47",
   "metadata": {},
   "outputs": [],
   "source": [
    "tup1 = (1,2,3)\n",
    "tup2 = (4,5,6)"
   ]
  },
  {
   "cell_type": "code",
   "execution_count": 151,
   "id": "22bc3b9c",
   "metadata": {},
   "outputs": [
    {
     "data": {
      "text/plain": [
       "(4, 5, 6, 1, 2, 3)"
      ]
     },
     "execution_count": 151,
     "metadata": {},
     "output_type": "execute_result"
    }
   ],
   "source": [
    "tup2+tup1"
   ]
  },
  {
   "cell_type": "code",
   "execution_count": 67,
   "id": "71db35ff",
   "metadata": {},
   "outputs": [
    {
     "data": {
      "text/plain": [
       "(1, 2, 3, 4, 5, 6)"
      ]
     },
     "execution_count": 67,
     "metadata": {},
     "output_type": "execute_result"
    }
   ],
   "source": [
    "tup1+tup2"
   ]
  },
  {
   "cell_type": "code",
   "execution_count": 69,
   "id": "f8cba1d6",
   "metadata": {},
   "outputs": [
    {
     "data": {
      "text/plain": [
       "(1, 2, 3, 1, 2, 3, 1, 2, 3, 1, 2, 3, 1, 2, 3)"
      ]
     },
     "execution_count": 69,
     "metadata": {},
     "output_type": "execute_result"
    }
   ],
   "source": [
    "tup1*5"
   ]
  },
  {
   "cell_type": "code",
   "execution_count": 68,
   "id": "0ef808dd",
   "metadata": {},
   "outputs": [
    {
     "data": {
      "text/plain": [
       "(1, 2, 3, 4, 5, 6, 4, 5, 6, 4, 5, 6, 4, 5, 6, 4, 5, 6)"
      ]
     },
     "execution_count": 68,
     "metadata": {},
     "output_type": "execute_result"
    }
   ],
   "source": [
    "tup1+tup2 *5"
   ]
  },
  {
   "cell_type": "code",
   "execution_count": 70,
   "id": "9d181cbc",
   "metadata": {},
   "outputs": [
    {
     "data": {
      "text/plain": [
       "(1,\n",
       " 2,\n",
       " 3,\n",
       " 1,\n",
       " 2,\n",
       " 3,\n",
       " 1,\n",
       " 2,\n",
       " 3,\n",
       " 1,\n",
       " 2,\n",
       " 3,\n",
       " 1,\n",
       " 2,\n",
       " 3,\n",
       " 4,\n",
       " 5,\n",
       " 6,\n",
       " 4,\n",
       " 5,\n",
       " 6,\n",
       " 4,\n",
       " 5,\n",
       " 6,\n",
       " 4,\n",
       " 5,\n",
       " 6,\n",
       " 4,\n",
       " 5,\n",
       " 6)"
      ]
     },
     "execution_count": 70,
     "metadata": {},
     "output_type": "execute_result"
    }
   ],
   "source": [
    "tup1*5+tup2*5"
   ]
  },
  {
   "cell_type": "code",
   "execution_count": null,
   "id": "e78b8fae",
   "metadata": {},
   "outputs": [],
   "source": [
    "tup1 =(10,20,30,40,50,60)"
   ]
  },
  {
   "cell_type": "code",
   "execution_count": 62,
   "id": "f294ea60",
   "metadata": {},
   "outputs": [
    {
     "data": {
      "text/plain": [
       "10"
      ]
     },
     "execution_count": 62,
     "metadata": {},
     "output_type": "execute_result"
    }
   ],
   "source": [
    "min(tup1)"
   ]
  },
  {
   "cell_type": "code",
   "execution_count": 63,
   "id": "57dc2a08",
   "metadata": {},
   "outputs": [
    {
     "data": {
      "text/plain": [
       "60"
      ]
     },
     "execution_count": 63,
     "metadata": {},
     "output_type": "execute_result"
    }
   ],
   "source": [
    "max(tup1)"
   ]
  },
  {
   "cell_type": "code",
   "execution_count": 60,
   "id": "c2ae45f1",
   "metadata": {},
   "outputs": [],
   "source": [
    "l1 = [1,'sparta',3.14,True]"
   ]
  },
  {
   "cell_type": "code",
   "execution_count": 61,
   "id": "6d607db8",
   "metadata": {},
   "outputs": [],
   "source": [
    "l1 = [1,'sparta',True,3.14]"
   ]
  },
  {
   "cell_type": "code",
   "execution_count": 152,
   "id": "686e70a3",
   "metadata": {},
   "outputs": [],
   "source": [
    "lis1 = [1,'aakash',3.14,True]"
   ]
  },
  {
   "cell_type": "code",
   "execution_count": 153,
   "id": "1a6f4802",
   "metadata": {},
   "outputs": [
    {
     "data": {
      "text/plain": [
       "[1, 'aakash', 3.14, True]"
      ]
     },
     "execution_count": 153,
     "metadata": {},
     "output_type": "execute_result"
    }
   ],
   "source": [
    "lis1"
   ]
  },
  {
   "cell_type": "code",
   "execution_count": 154,
   "id": "8816b796",
   "metadata": {},
   "outputs": [
    {
     "data": {
      "text/plain": [
       "list"
      ]
     },
     "execution_count": 154,
     "metadata": {},
     "output_type": "execute_result"
    }
   ],
   "source": [
    "type(lis1)"
   ]
  },
  {
   "cell_type": "code",
   "execution_count": 156,
   "id": "ebfd38fa",
   "metadata": {},
   "outputs": [
    {
     "data": {
      "text/plain": [
       "1"
      ]
     },
     "execution_count": 156,
     "metadata": {},
     "output_type": "execute_result"
    }
   ],
   "source": [
    "lis1[0]"
   ]
  },
  {
   "cell_type": "markdown",
   "id": "f307ea24",
   "metadata": {},
   "source": [
    "lis1[-1"
   ]
  },
  {
   "cell_type": "code",
   "execution_count": 158,
   "id": "5cd5929a",
   "metadata": {},
   "outputs": [
    {
     "data": {
      "text/plain": [
       "True"
      ]
     },
     "execution_count": 158,
     "metadata": {},
     "output_type": "execute_result"
    }
   ],
   "source": [
    "lis1[-1]"
   ]
  },
  {
   "cell_type": "code",
   "execution_count": 159,
   "id": "ca4f0b12",
   "metadata": {},
   "outputs": [
    {
     "data": {
      "text/plain": [
       "['aakash', 3.14]"
      ]
     },
     "execution_count": 159,
     "metadata": {},
     "output_type": "execute_result"
    }
   ],
   "source": [
    "lis1[1:3]"
   ]
  },
  {
   "cell_type": "code",
   "execution_count": 161,
   "id": "677d6012",
   "metadata": {},
   "outputs": [],
   "source": [
    "lis1[0]=100"
   ]
  },
  {
   "cell_type": "code",
   "execution_count": 162,
   "id": "11563923",
   "metadata": {},
   "outputs": [
    {
     "data": {
      "text/plain": [
       "[100, 'aakash', 3.14, True]"
      ]
     },
     "execution_count": 162,
     "metadata": {},
     "output_type": "execute_result"
    }
   ],
   "source": [
    "lis1"
   ]
  },
  {
   "cell_type": "code",
   "execution_count": 165,
   "id": "390b288f",
   "metadata": {},
   "outputs": [],
   "source": [
    "lis1.append('sharma')"
   ]
  },
  {
   "cell_type": "code",
   "execution_count": 166,
   "id": "7ead92c5",
   "metadata": {},
   "outputs": [
    {
     "data": {
      "text/plain": [
       "[100, 'aakash', 3.14, True, 'sharma', 'sharma']"
      ]
     },
     "execution_count": 166,
     "metadata": {},
     "output_type": "execute_result"
    }
   ],
   "source": [
    "lis1"
   ]
  },
  {
   "cell_type": "code",
   "execution_count": 167,
   "id": "fae0b2b2",
   "metadata": {},
   "outputs": [
    {
     "data": {
      "text/plain": [
       "[100, 'aakash', 3.14, True, 'sharma', 'sharma']"
      ]
     },
     "execution_count": 167,
     "metadata": {},
     "output_type": "execute_result"
    }
   ],
   "source": [
    "lis1"
   ]
  },
  {
   "cell_type": "code",
   "execution_count": 168,
   "id": "7bfa9cb3",
   "metadata": {},
   "outputs": [
    {
     "data": {
      "text/plain": [
       "'sharma'"
      ]
     },
     "execution_count": 168,
     "metadata": {},
     "output_type": "execute_result"
    }
   ],
   "source": [
    "lis1.pop()"
   ]
  },
  {
   "cell_type": "code",
   "execution_count": 169,
   "id": "3cc10674",
   "metadata": {},
   "outputs": [
    {
     "data": {
      "text/plain": [
       "[100, 'aakash', 3.14, True, 'sharma']"
      ]
     },
     "execution_count": 169,
     "metadata": {},
     "output_type": "execute_result"
    }
   ],
   "source": [
    "lis1"
   ]
  },
  {
   "cell_type": "code",
   "execution_count": 170,
   "id": "0a18bcf2",
   "metadata": {},
   "outputs": [
    {
     "data": {
      "text/plain": [
       "100"
      ]
     },
     "execution_count": 170,
     "metadata": {},
     "output_type": "execute_result"
    }
   ],
   "source": [
    "lis1[0]"
   ]
  },
  {
   "cell_type": "code",
   "execution_count": 171,
   "id": "0beabf1b",
   "metadata": {},
   "outputs": [
    {
     "data": {
      "text/plain": [
       "'sharma'"
      ]
     },
     "execution_count": 171,
     "metadata": {},
     "output_type": "execute_result"
    }
   ],
   "source": [
    "lis1[-1]"
   ]
  },
  {
   "cell_type": "code",
   "execution_count": 172,
   "id": "0bdaf9e4",
   "metadata": {},
   "outputs": [
    {
     "data": {
      "text/plain": [
       "[100, 'aakash', 3.14, True, 'sharma']"
      ]
     },
     "execution_count": 172,
     "metadata": {},
     "output_type": "execute_result"
    }
   ],
   "source": [
    "lis1"
   ]
  },
  {
   "cell_type": "code",
   "execution_count": 173,
   "id": "ddb0a1e6",
   "metadata": {},
   "outputs": [],
   "source": [
    "l1 = ['434',12,90,23,True,False]"
   ]
  },
  {
   "cell_type": "code",
   "execution_count": 174,
   "id": "9b740459",
   "metadata": {},
   "outputs": [
    {
     "data": {
      "text/plain": [
       "['434', 12, 90, 23, True, False]"
      ]
     },
     "execution_count": 174,
     "metadata": {},
     "output_type": "execute_result"
    }
   ],
   "source": [
    "l1"
   ]
  },
  {
   "cell_type": "code",
   "execution_count": 176,
   "id": "eebc592f",
   "metadata": {},
   "outputs": [],
   "source": [
    "l1.reverse()"
   ]
  },
  {
   "cell_type": "code",
   "execution_count": 177,
   "id": "4619436c",
   "metadata": {},
   "outputs": [
    {
     "data": {
      "text/plain": [
       "[False, True, 23, 90, 12, '434']"
      ]
     },
     "execution_count": 177,
     "metadata": {},
     "output_type": "execute_result"
    }
   ],
   "source": [
    "l1"
   ]
  },
  {
   "cell_type": "code",
   "execution_count": 178,
   "id": "df2e7057",
   "metadata": {},
   "outputs": [],
   "source": [
    "l1.insert(3,'hello')"
   ]
  },
  {
   "cell_type": "code",
   "execution_count": 179,
   "id": "80540fa9",
   "metadata": {},
   "outputs": [
    {
     "data": {
      "text/plain": [
       "[False, True, 23, 'hello', 90, 12, '434']"
      ]
     },
     "execution_count": 179,
     "metadata": {},
     "output_type": "execute_result"
    }
   ],
   "source": [
    "l1"
   ]
  },
  {
   "cell_type": "code",
   "execution_count": 181,
   "id": "c0ac02fd",
   "metadata": {},
   "outputs": [],
   "source": [
    "l1 =['d','f','h','a','c','n']"
   ]
  },
  {
   "cell_type": "code",
   "execution_count": 182,
   "id": "4533cf5d",
   "metadata": {},
   "outputs": [],
   "source": [
    "l1.sort()"
   ]
  },
  {
   "cell_type": "code",
   "execution_count": 183,
   "id": "56ec8f16",
   "metadata": {},
   "outputs": [
    {
     "data": {
      "text/plain": [
       "['a', 'c', 'd', 'f', 'h', 'n']"
      ]
     },
     "execution_count": 183,
     "metadata": {},
     "output_type": "execute_result"
    }
   ],
   "source": [
    "l1"
   ]
  },
  {
   "cell_type": "code",
   "execution_count": 187,
   "id": "cbd60dd4",
   "metadata": {},
   "outputs": [],
   "source": [
    "l2 = [\"apple\",\"bannna\",\"mango\"]"
   ]
  },
  {
   "cell_type": "markdown",
   "id": "8f36e8a7",
   "metadata": {},
   "source": [
    "## "
   ]
  },
  {
   "cell_type": "code",
   "execution_count": 188,
   "id": "2e5de601",
   "metadata": {},
   "outputs": [
    {
     "data": {
      "text/plain": [
       "['apple', 'bannna', 'mango']"
      ]
     },
     "execution_count": 188,
     "metadata": {},
     "output_type": "execute_result"
    }
   ],
   "source": [
    "l2"
   ]
  },
  {
   "cell_type": "code",
   "execution_count": 189,
   "id": "5175b755",
   "metadata": {},
   "outputs": [
    {
     "data": {
      "text/plain": [
       "['a', 'c', 'd', 'f', 'h', 'n', 'apple', 'bannna', 'mango']"
      ]
     },
     "execution_count": 189,
     "metadata": {},
     "output_type": "execute_result"
    }
   ],
   "source": [
    "l1+l2"
   ]
  },
  {
   "cell_type": "code",
   "execution_count": 190,
   "id": "70aa39d9",
   "metadata": {},
   "outputs": [
    {
     "data": {
      "text/plain": [
       "['apple',\n",
       " 'bannna',\n",
       " 'mango',\n",
       " 'apple',\n",
       " 'bannna',\n",
       " 'mango',\n",
       " 'apple',\n",
       " 'bannna',\n",
       " 'mango',\n",
       " 'apple',\n",
       " 'bannna',\n",
       " 'mango',\n",
       " 'apple',\n",
       " 'bannna',\n",
       " 'mango']"
      ]
     },
     "execution_count": 190,
     "metadata": {},
     "output_type": "execute_result"
    }
   ],
   "source": [
    "l2*5\n"
   ]
  },
  {
   "cell_type": "code",
   "execution_count": 191,
   "id": "8ebd6457",
   "metadata": {},
   "outputs": [
    {
     "data": {
      "text/plain": [
       "['a',\n",
       " 'c',\n",
       " 'd',\n",
       " 'f',\n",
       " 'h',\n",
       " 'n',\n",
       " 'a',\n",
       " 'c',\n",
       " 'd',\n",
       " 'f',\n",
       " 'h',\n",
       " 'n',\n",
       " 'apple',\n",
       " 'bannna',\n",
       " 'mango',\n",
       " 'apple',\n",
       " 'bannna',\n",
       " 'mango',\n",
       " 'apple',\n",
       " 'bannna',\n",
       " 'mango',\n",
       " 'apple',\n",
       " 'bannna',\n",
       " 'mango']"
      ]
     },
     "execution_count": 191,
     "metadata": {},
     "output_type": "execute_result"
    }
   ],
   "source": [
    "(l1*2)+(l2*4)"
   ]
  },
  {
   "cell_type": "code",
   "execution_count": 192,
   "id": "363c6b39",
   "metadata": {},
   "outputs": [],
   "source": [
    "#dictionary"
   ]
  },
  {
   "cell_type": "code",
   "execution_count": 193,
   "id": "9c39607a",
   "metadata": {},
   "outputs": [],
   "source": [
    "d1 = {\"apple\":50,\"mango\":100,\"guava\":200,\"banana\":500}"
   ]
  },
  {
   "cell_type": "code",
   "execution_count": 194,
   "id": "fb5feccd",
   "metadata": {},
   "outputs": [
    {
     "data": {
      "text/plain": [
       "{'apple': 50, 'mango': 100, 'guava': 200, 'banana': 500}"
      ]
     },
     "execution_count": 194,
     "metadata": {},
     "output_type": "execute_result"
    }
   ],
   "source": [
    "d1"
   ]
  },
  {
   "cell_type": "code",
   "execution_count": 196,
   "id": "b392eb3a",
   "metadata": {},
   "outputs": [
    {
     "data": {
      "text/plain": [
       "dict"
      ]
     },
     "execution_count": 196,
     "metadata": {},
     "output_type": "execute_result"
    }
   ],
   "source": [
    "type(d1)"
   ]
  },
  {
   "cell_type": "code",
   "execution_count": 198,
   "id": "08b069b8",
   "metadata": {},
   "outputs": [
    {
     "data": {
      "text/plain": [
       "dict_keys(['apple', 'mango', 'guava', 'banana'])"
      ]
     },
     "execution_count": 198,
     "metadata": {},
     "output_type": "execute_result"
    }
   ],
   "source": [
    "d1.keys()"
   ]
  },
  {
   "cell_type": "code",
   "execution_count": 200,
   "id": "4c3b9a87",
   "metadata": {},
   "outputs": [
    {
     "data": {
      "text/plain": [
       "dict_values([50, 100, 200, 500])"
      ]
     },
     "execution_count": 200,
     "metadata": {},
     "output_type": "execute_result"
    }
   ],
   "source": [
    "d1.values()"
   ]
  },
  {
   "cell_type": "code",
   "execution_count": 201,
   "id": "a5c303ab",
   "metadata": {},
   "outputs": [
    {
     "data": {
      "text/plain": [
       "{'apple': 50, 'mango': 100, 'guava': 200, 'banana': 500}"
      ]
     },
     "execution_count": 201,
     "metadata": {},
     "output_type": "execute_result"
    }
   ],
   "source": [
    "d1"
   ]
  },
  {
   "cell_type": "code",
   "execution_count": 203,
   "id": "7387950e",
   "metadata": {},
   "outputs": [],
   "source": [
    "d1[\"orange\"]=150"
   ]
  },
  {
   "cell_type": "code",
   "execution_count": null,
   "id": "c04b28ec",
   "metadata": {},
   "outputs": [],
   "source": []
  },
  {
   "cell_type": "code",
   "execution_count": 204,
   "id": "6122547d",
   "metadata": {},
   "outputs": [
    {
     "data": {
      "text/plain": [
       "{'apple': 50, 'mango': 100, 'guava': 200, 'banana': 500, 'orange': 150}"
      ]
     },
     "execution_count": 204,
     "metadata": {},
     "output_type": "execute_result"
    }
   ],
   "source": [
    "d1"
   ]
  },
  {
   "cell_type": "code",
   "execution_count": 205,
   "id": "e03a77ce",
   "metadata": {},
   "outputs": [],
   "source": [
    "d1[\"banana\"] = 300"
   ]
  },
  {
   "cell_type": "code",
   "execution_count": 206,
   "id": "11ea0af5",
   "metadata": {},
   "outputs": [
    {
     "data": {
      "text/plain": [
       "{'apple': 50, 'mango': 100, 'guava': 200, 'banana': 300, 'orange': 150}"
      ]
     },
     "execution_count": 206,
     "metadata": {},
     "output_type": "execute_result"
    }
   ],
   "source": [
    "d1"
   ]
  },
  {
   "cell_type": "code",
   "execution_count": 207,
   "id": "30a8c322",
   "metadata": {},
   "outputs": [],
   "source": [
    "d2 = {'watermelon':1000, 'grapes':50,'muskmelon':850}"
   ]
  },
  {
   "cell_type": "code",
   "execution_count": 208,
   "id": "de7e7e4f",
   "metadata": {},
   "outputs": [
    {
     "data": {
      "text/plain": [
       "{'watermelon': 1000, 'grapes': 50, 'muskmelon': 850}"
      ]
     },
     "execution_count": 208,
     "metadata": {},
     "output_type": "execute_result"
    }
   ],
   "source": [
    "d2"
   ]
  },
  {
   "cell_type": "code",
   "execution_count": 209,
   "id": "f908c132",
   "metadata": {},
   "outputs": [],
   "source": [
    "d1.update(d2)"
   ]
  },
  {
   "cell_type": "code",
   "execution_count": 210,
   "id": "aa783420",
   "metadata": {},
   "outputs": [
    {
     "data": {
      "text/plain": [
       "{'apple': 50,\n",
       " 'mango': 100,\n",
       " 'guava': 200,\n",
       " 'banana': 300,\n",
       " 'orange': 150,\n",
       " 'watermelon': 1000,\n",
       " 'grapes': 50,\n",
       " 'muskmelon': 850}"
      ]
     },
     "execution_count": 210,
     "metadata": {},
     "output_type": "execute_result"
    }
   ],
   "source": [
    "d1"
   ]
  },
  {
   "cell_type": "code",
   "execution_count": 211,
   "id": "743baa1d",
   "metadata": {},
   "outputs": [
    {
     "data": {
      "text/plain": [
       "300"
      ]
     },
     "execution_count": 211,
     "metadata": {},
     "output_type": "execute_result"
    }
   ],
   "source": [
    "d1.pop('banana')"
   ]
  },
  {
   "cell_type": "code",
   "execution_count": 212,
   "id": "1812e835",
   "metadata": {},
   "outputs": [
    {
     "data": {
      "text/plain": [
       "{'apple': 50,\n",
       " 'mango': 100,\n",
       " 'guava': 200,\n",
       " 'orange': 150,\n",
       " 'watermelon': 1000,\n",
       " 'grapes': 50,\n",
       " 'muskmelon': 850}"
      ]
     },
     "execution_count": 212,
     "metadata": {},
     "output_type": "execute_result"
    }
   ],
   "source": [
    "d1"
   ]
  },
  {
   "cell_type": "code",
   "execution_count": 213,
   "id": "0e7fd27f",
   "metadata": {},
   "outputs": [
    {
     "data": {
      "text/plain": [
       "1000"
      ]
     },
     "execution_count": 213,
     "metadata": {},
     "output_type": "execute_result"
    }
   ],
   "source": [
    "d1.pop('watermelon')"
   ]
  },
  {
   "cell_type": "code",
   "execution_count": 214,
   "id": "b981af1d",
   "metadata": {},
   "outputs": [
    {
     "data": {
      "text/plain": [
       "{'apple': 50,\n",
       " 'mango': 100,\n",
       " 'guava': 200,\n",
       " 'orange': 150,\n",
       " 'grapes': 50,\n",
       " 'muskmelon': 850}"
      ]
     },
     "execution_count": 214,
     "metadata": {},
     "output_type": "execute_result"
    }
   ],
   "source": [
    "d1"
   ]
  },
  {
   "cell_type": "code",
   "execution_count": 215,
   "id": "dc11741c",
   "metadata": {},
   "outputs": [],
   "source": [
    "#set"
   ]
  },
  {
   "cell_type": "code",
   "execution_count": 216,
   "id": "2af6a881",
   "metadata": {},
   "outputs": [],
   "source": [
    "s1 = {1,3.14,'sparta'}"
   ]
  },
  {
   "cell_type": "code",
   "execution_count": 217,
   "id": "9f08db02",
   "metadata": {},
   "outputs": [
    {
     "data": {
      "text/plain": [
       "{1, 3.14, 'sparta'}"
      ]
     },
     "execution_count": 217,
     "metadata": {},
     "output_type": "execute_result"
    }
   ],
   "source": [
    "s1"
   ]
  },
  {
   "cell_type": "code",
   "execution_count": 218,
   "id": "1b15c592",
   "metadata": {},
   "outputs": [],
   "source": [
    "s1 = {1,3.14,'sparta',3.14,'sparta'}"
   ]
  },
  {
   "cell_type": "code",
   "execution_count": 219,
   "id": "ca1e4ece",
   "metadata": {},
   "outputs": [
    {
     "data": {
      "text/plain": [
       "{1, 3.14, 'sparta'}"
      ]
     },
     "execution_count": 219,
     "metadata": {},
     "output_type": "execute_result"
    }
   ],
   "source": [
    "s1"
   ]
  },
  {
   "cell_type": "code",
   "execution_count": 220,
   "id": "96ac42f2",
   "metadata": {},
   "outputs": [],
   "source": [
    "s1 = {1,3.14,'sparta',3.14,'sparta'}"
   ]
  },
  {
   "cell_type": "code",
   "execution_count": 221,
   "id": "c4d63bb4",
   "metadata": {},
   "outputs": [
    {
     "data": {
      "text/plain": [
       "{1, 3.14, 'sparta'}"
      ]
     },
     "execution_count": 221,
     "metadata": {},
     "output_type": "execute_result"
    }
   ],
   "source": [
    "s1"
   ]
  },
  {
   "cell_type": "code",
   "execution_count": 222,
   "id": "3992501e",
   "metadata": {},
   "outputs": [],
   "source": [
    "s1.add(False)"
   ]
  },
  {
   "cell_type": "code",
   "execution_count": 223,
   "id": "959e28ce",
   "metadata": {},
   "outputs": [
    {
     "data": {
      "text/plain": [
       "{1, 3.14, False, 'sparta'}"
      ]
     },
     "execution_count": 223,
     "metadata": {},
     "output_type": "execute_result"
    }
   ],
   "source": [
    "s1"
   ]
  },
  {
   "cell_type": "code",
   "execution_count": 226,
   "id": "23209a43",
   "metadata": {},
   "outputs": [],
   "source": [
    "s1.update(['hello',78955,5+7j])"
   ]
  },
  {
   "cell_type": "markdown",
   "id": "e6e9f5cc",
   "metadata": {},
   "source": [
    "# "
   ]
  },
  {
   "cell_type": "code",
   "execution_count": 227,
   "id": "7d043249",
   "metadata": {},
   "outputs": [
    {
     "data": {
      "text/plain": [
       "{(5+7j), 1, 3.14, 78955, False, 'hello', 'sparta'}"
      ]
     },
     "execution_count": 227,
     "metadata": {},
     "output_type": "execute_result"
    }
   ],
   "source": [
    "s1"
   ]
  },
  {
   "cell_type": "code",
   "execution_count": 229,
   "id": "b91fefd8",
   "metadata": {},
   "outputs": [],
   "source": [
    "s1.remove(3.14)"
   ]
  },
  {
   "cell_type": "markdown",
   "id": "123467dd",
   "metadata": {},
   "source": [
    "s1 "
   ]
  },
  {
   "cell_type": "code",
   "execution_count": 230,
   "id": "2d6a4c54",
   "metadata": {},
   "outputs": [
    {
     "data": {
      "text/plain": [
       "{(5+7j), 1, 78955, False, 'hello', 'sparta'}"
      ]
     },
     "execution_count": 230,
     "metadata": {},
     "output_type": "execute_result"
    }
   ],
   "source": [
    "s1"
   ]
  },
  {
   "cell_type": "code",
   "execution_count": 231,
   "id": "6a6c5e29",
   "metadata": {},
   "outputs": [],
   "source": [
    "s1.remove('hello')"
   ]
  },
  {
   "cell_type": "code",
   "execution_count": 232,
   "id": "dce58213",
   "metadata": {},
   "outputs": [
    {
     "data": {
      "text/plain": [
       "{(5+7j), 1, 78955, False, 'sparta'}"
      ]
     },
     "execution_count": 232,
     "metadata": {},
     "output_type": "execute_result"
    }
   ],
   "source": [
    "s1\n"
   ]
  },
  {
   "cell_type": "code",
   "execution_count": 233,
   "id": "01418f2f",
   "metadata": {},
   "outputs": [],
   "source": [
    "s1 = {1,2,3,4,5,6}"
   ]
  },
  {
   "cell_type": "code",
   "execution_count": 234,
   "id": "587aecf9",
   "metadata": {},
   "outputs": [],
   "source": [
    "s2 = {7,8,9,0}"
   ]
  },
  {
   "cell_type": "code",
   "execution_count": 235,
   "id": "a0f4304b",
   "metadata": {},
   "outputs": [
    {
     "data": {
      "text/plain": [
       "{0, 1, 2, 3, 4, 5, 6, 7, 8, 9}"
      ]
     },
     "execution_count": 235,
     "metadata": {},
     "output_type": "execute_result"
    }
   ],
   "source": [
    "s1.union(s2)"
   ]
  },
  {
   "cell_type": "code",
   "execution_count": 236,
   "id": "ac6a01f1",
   "metadata": {},
   "outputs": [],
   "source": [
    "s3 = {5,6,7,8,9}"
   ]
  },
  {
   "cell_type": "code",
   "execution_count": 238,
   "id": "48e0e095",
   "metadata": {},
   "outputs": [
    {
     "data": {
      "text/plain": [
       "{5, 6}"
      ]
     },
     "execution_count": 238,
     "metadata": {},
     "output_type": "execute_result"
    }
   ],
   "source": [
    "s1.intersection(s3)"
   ]
  },
  {
   "cell_type": "code",
   "execution_count": 239,
   "id": "e0a1a9bd",
   "metadata": {},
   "outputs": [],
   "source": [
    "#if else statement\n"
   ]
  },
  {
   "cell_type": "code",
   "execution_count": 240,
   "id": "a9ef1609",
   "metadata": {},
   "outputs": [],
   "source": [
    "a=10"
   ]
  },
  {
   "cell_type": "code",
   "execution_count": 241,
   "id": "58ff15e7",
   "metadata": {},
   "outputs": [],
   "source": [
    "b=20"
   ]
  },
  {
   "cell_type": "code",
   "execution_count": 244,
   "id": "884056b2",
   "metadata": {},
   "outputs": [
    {
     "name": "stdout",
     "output_type": "stream",
     "text": [
      "B is greater than A\n"
     ]
    }
   ],
   "source": [
    "if(b>a):\n",
    "    print(\"B is greater than A\")"
   ]
  },
  {
   "cell_type": "code",
   "execution_count": 248,
   "id": "b581a118",
   "metadata": {},
   "outputs": [
    {
     "name": "stdout",
     "output_type": "stream",
     "text": [
      " B is gretaer than A\n"
     ]
    }
   ],
   "source": [
    " if a>b:   \n",
    "    print(\"A is greater than B\")\n",
    "else:\n",
    "    print(\" B is gretaer than A\")"
   ]
  },
  {
   "cell_type": "code",
   "execution_count": null,
   "id": "d7a18e21",
   "metadata": {},
   "outputs": [],
   "source": []
  },
  {
   "cell_type": "code",
   "execution_count": 249,
   "id": "a5c57b13",
   "metadata": {},
   "outputs": [],
   "source": [
    "a=10\n",
    "b=20\n",
    "c=30"
   ]
  },
  {
   "cell_type": "code",
   "execution_count": 254,
   "id": "9f347d95",
   "metadata": {},
   "outputs": [],
   "source": [
    "if (a>b) & (b>c):\n",
    "    print(\"A is the greatest \")\n",
    "elif (b>a) & (b>c):\n",
    "    print(\"B is the greatest\")"
   ]
  },
  {
   "cell_type": "code",
   "execution_count": null,
   "id": "cfc955c9",
   "metadata": {},
   "outputs": [],
   "source": []
  },
  {
   "cell_type": "code",
   "execution_count": 255,
   "id": "6d30f8ea",
   "metadata": {},
   "outputs": [
    {
     "name": "stdout",
     "output_type": "stream",
     "text": [
      " C is te greatest\n"
     ]
    }
   ],
   "source": [
    "if (a>b) & (b>c):\n",
    "    print(\"A is the greatest \")\n",
    "elif (b>a) & (b>c):\n",
    "    print(\"B is the greatest\")\n",
    "else:\n",
    "    print(\" C is te greatest\")"
   ]
  },
  {
   "cell_type": "code",
   "execution_count": 256,
   "id": "c88b3bf9",
   "metadata": {},
   "outputs": [],
   "source": [
    "# if with tuple\n"
   ]
  },
  {
   "cell_type": "code",
   "execution_count": 257,
   "id": "3d08a70e",
   "metadata": {},
   "outputs": [],
   "source": [
    "tup1 = ('a','b','c')"
   ]
  },
  {
   "cell_type": "code",
   "execution_count": 258,
   "id": "52a55a10",
   "metadata": {},
   "outputs": [
    {
     "name": "stdout",
     "output_type": "stream",
     "text": [
      " value a is present in tup1\n"
     ]
    }
   ],
   "source": [
    "if 'a' in tup1:\n",
    "    print(\" value a is present in tup1\")"
   ]
  },
  {
   "cell_type": "code",
   "execution_count": 260,
   "id": "401c2123",
   "metadata": {},
   "outputs": [
    {
     "name": "stdout",
     "output_type": "stream",
     "text": [
      " value z present in tup1 \n"
     ]
    }
   ],
   "source": [
    "if 'z' in tup1:\n",
    "    print(\" value a is present in tup1\")\n",
    "else :\n",
    "    print(\" value z present in tup1 \")"
   ]
  },
  {
   "cell_type": "code",
   "execution_count": 261,
   "id": "b9a40752",
   "metadata": {},
   "outputs": [],
   "source": [
    "# if with list"
   ]
  },
  {
   "cell_type": "code",
   "execution_count": 268,
   "id": "75890f0c",
   "metadata": {},
   "outputs": [],
   "source": [
    "l1 = ['a','b','c']"
   ]
  },
  {
   "cell_type": "code",
   "execution_count": 269,
   "id": "495886a4",
   "metadata": {},
   "outputs": [],
   "source": [
    "if l1[1]=='b':\n",
    "    l1[1]='z'"
   ]
  },
  {
   "cell_type": "code",
   "execution_count": 270,
   "id": "b6cdc54c",
   "metadata": {},
   "outputs": [
    {
     "data": {
      "text/plain": [
       "['a', 'z', 'c']"
      ]
     },
     "execution_count": 270,
     "metadata": {},
     "output_type": "execute_result"
    }
   ],
   "source": [
    "l1"
   ]
  },
  {
   "cell_type": "code",
   "execution_count": 271,
   "id": "acc72e65",
   "metadata": {},
   "outputs": [],
   "source": [
    "# if with dictionary\n"
   ]
  },
  {
   "cell_type": "code",
   "execution_count": 273,
   "id": "997a3255",
   "metadata": {},
   "outputs": [],
   "source": [
    "d1= {'k1':10,'k2':20,'k3':30}"
   ]
  },
  {
   "cell_type": "code",
   "execution_count": 274,
   "id": "18f4cdd9",
   "metadata": {},
   "outputs": [
    {
     "data": {
      "text/plain": [
       "{'k1': 10, 'k2': 20, 'k3': 30}"
      ]
     },
     "execution_count": 274,
     "metadata": {},
     "output_type": "execute_result"
    }
   ],
   "source": [
    "d1"
   ]
  },
  {
   "cell_type": "code",
   "execution_count": 277,
   "id": "fdeb3bac",
   "metadata": {},
   "outputs": [],
   "source": [
    "if d1['k3'] == 30:\n",
    "   d1['k3']= d1['k3']+100\n",
    "   "
   ]
  },
  {
   "cell_type": "code",
   "execution_count": 278,
   "id": "339a375b",
   "metadata": {},
   "outputs": [
    {
     "data": {
      "text/plain": [
       "{'k1': 10, 'k2': 20, 'k3': 130}"
      ]
     },
     "execution_count": 278,
     "metadata": {},
     "output_type": "execute_result"
    }
   ],
   "source": [
    "d1"
   ]
  },
  {
   "cell_type": "code",
   "execution_count": null,
   "id": "5e558a15",
   "metadata": {},
   "outputs": [],
   "source": []
  }
 ],
 "metadata": {
  "kernelspec": {
   "display_name": "Python 3 (ipykernel)",
   "language": "python",
   "name": "python3"
  },
  "language_info": {
   "codemirror_mode": {
    "name": "ipython",
    "version": 3
   },
   "file_extension": ".py",
   "mimetype": "text/x-python",
   "name": "python",
   "nbconvert_exporter": "python",
   "pygments_lexer": "ipython3",
   "version": "3.9.12"
  }
 },
 "nbformat": 4,
 "nbformat_minor": 5
}
